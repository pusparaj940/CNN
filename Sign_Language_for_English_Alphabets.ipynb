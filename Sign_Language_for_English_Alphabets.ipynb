{
 "cells": [
  {
   "cell_type": "markdown",
   "id": "55425ba6",
   "metadata": {
    "id": "55425ba6"
   },
   "source": [
    "# Multi-class Classification : Sign language for english alphabet\n",
    "\n",
    "Using the [Sign Language MNIST](https://www.kaggle.com/datamunge/sign-language-mnist) dataset, which contains 28x28 images of hands depicting the 26 letters of the English alphabet.\n",
    "\n",
    "Let's get started!"
   ]
  },
  {
   "cell_type": "code",
   "execution_count": 1,
   "id": "689f1257",
   "metadata": {
    "id": "689f1257",
    "tags": [
     "graded"
    ]
   },
   "outputs": [],
   "source": [
    "# Importing required libraries\n",
    "import csv\n",
    "import string\n",
    "import numpy as np\n",
    "import tensorflow as tf\n",
    "import matplotlib.pyplot as plt\n",
    "from tensorflow.keras.preprocessing.image import ImageDataGenerator, array_to_img"
   ]
  },
  {
   "cell_type": "markdown",
   "id": "8e2ff6d2",
   "metadata": {
    "id": "8e2ff6d2"
   },
   "source": [
    "Download the training and test sets :"
   ]
  },
  {
   "cell_type": "code",
   "execution_count": 2,
   "id": "c2187066",
   "metadata": {
    "colab": {
     "base_uri": "https://localhost:8080/"
    },
    "id": "c2187066",
    "outputId": "82bc29be-73a5-47a8-d3d8-ab48eb5474f0",
    "tags": []
   },
   "outputs": [
    {
     "name": "stderr",
     "output_type": "stream",
     "text": [
      "C:\\Users\\Admin\\anaconda3\\lib\\site-packages\\gdown\\cli.py:126: FutureWarning: Option `--id` was deprecated in version 4.3.1 and will be removed in 5.0. You don't need to pass it anymore to use a file ID.\n",
      "  warnings.warn(\n",
      "Downloading...\n",
      "From: https://drive.google.com/uc?id=1z0DkA9BytlLxO1C0BAWzknLyQmZAp0HR\n",
      "To: C:\\Users\\Admin\\sign_mnist_train.csv\n",
      "\n",
      "  0%|          | 0.00/83.3M [00:00<?, ?B/s]\n",
      "  1%|          | 524k/83.3M [00:00<01:41, 814kB/s]\n",
      "  1%|1         | 1.05M/83.3M [00:00<01:06, 1.24MB/s]\n",
      "  3%|2         | 2.10M/83.3M [00:01<00:33, 2.44MB/s]\n",
      "  4%|3         | 3.15M/83.3M [00:01<00:23, 3.43MB/s]\n",
      "  5%|5         | 4.19M/83.3M [00:01<00:18, 4.19MB/s]\n",
      "  6%|6         | 5.24M/83.3M [00:01<00:16, 4.75MB/s]\n",
      "  8%|7         | 6.29M/83.3M [00:01<00:16, 4.69MB/s]\n",
      "  9%|8         | 7.34M/83.3M [00:02<00:15, 5.01MB/s]\n",
      " 10%|#         | 8.39M/83.3M [00:02<00:14, 5.24MB/s]\n",
      " 11%|#1        | 9.44M/83.3M [00:02<00:13, 5.40MB/s]\n",
      " 13%|#2        | 10.5M/83.3M [00:02<00:13, 5.50MB/s]\n",
      " 14%|#3        | 11.5M/83.3M [00:02<00:12, 5.75MB/s]\n",
      " 15%|#5        | 12.6M/83.3M [00:02<00:12, 5.74MB/s]\n",
      " 16%|#6        | 13.6M/83.3M [00:03<00:11, 5.81MB/s]\n",
      " 18%|#7        | 14.7M/83.3M [00:03<00:11, 5.74MB/s]\n",
      " 19%|#8        | 15.7M/83.3M [00:03<00:11, 5.84MB/s]\n",
      " 20%|##        | 16.8M/83.3M [00:03<00:11, 5.83MB/s]\n",
      " 21%|##1       | 17.8M/83.3M [00:03<00:11, 5.79MB/s]\n",
      " 23%|##2       | 18.9M/83.3M [00:03<00:11, 5.79MB/s]\n",
      " 24%|##3       | 19.9M/83.3M [00:04<00:10, 5.88MB/s]\n",
      " 25%|##5       | 21.0M/83.3M [00:04<00:10, 5.84MB/s]\n",
      " 26%|##6       | 22.0M/83.3M [00:04<00:10, 5.78MB/s]\n",
      " 28%|##7       | 23.1M/83.3M [00:04<00:10, 5.75MB/s]\n",
      " 29%|##8       | 24.1M/83.3M [00:04<00:10, 5.79MB/s]\n",
      " 30%|###       | 25.2M/83.3M [00:05<00:09, 5.88MB/s]\n",
      " 31%|###1      | 26.2M/83.3M [00:05<00:09, 6.07MB/s]\n",
      " 33%|###2      | 27.3M/83.3M [00:05<00:09, 6.07MB/s]\n",
      " 34%|###4      | 28.3M/83.3M [00:05<00:08, 6.12MB/s]\n",
      " 35%|###5      | 29.4M/83.3M [00:05<00:10, 5.28MB/s]\n",
      " 37%|###6      | 30.4M/83.3M [00:06<00:10, 5.23MB/s]\n",
      " 38%|###7      | 31.5M/83.3M [00:06<00:09, 5.56MB/s]\n",
      " 39%|###9      | 32.5M/83.3M [00:06<00:08, 5.78MB/s]\n",
      " 40%|####      | 33.6M/83.3M [00:06<00:08, 6.00MB/s]\n",
      " 42%|####1     | 34.6M/83.3M [00:06<00:07, 6.14MB/s]\n",
      " 43%|####2     | 35.7M/83.3M [00:06<00:07, 6.21MB/s]\n",
      " 44%|####4     | 36.7M/83.3M [00:06<00:07, 6.32MB/s]\n",
      " 45%|####5     | 37.7M/83.3M [00:07<00:07, 6.40MB/s]\n",
      " 47%|####6     | 38.8M/83.3M [00:07<00:06, 6.41MB/s]\n",
      " 48%|####7     | 39.8M/83.3M [00:07<00:06, 6.40MB/s]\n",
      " 49%|####9     | 40.9M/83.3M [00:07<00:06, 6.48MB/s]\n",
      " 50%|#####     | 41.9M/83.3M [00:07<00:06, 6.52MB/s]\n",
      " 52%|#####1    | 43.0M/83.3M [00:07<00:06, 6.45MB/s]\n",
      " 53%|#####2    | 44.0M/83.3M [00:08<00:05, 6.58MB/s]\n",
      " 54%|#####4    | 45.1M/83.3M [00:08<00:05, 6.56MB/s]\n",
      " 55%|#####5    | 46.1M/83.3M [00:08<00:05, 6.57MB/s]\n",
      " 57%|#####6    | 47.2M/83.3M [00:08<00:05, 6.60MB/s]\n",
      " 58%|#####7    | 48.2M/83.3M [00:08<00:05, 6.63MB/s]\n",
      " 59%|#####9    | 49.3M/83.3M [00:08<00:05, 6.68MB/s]\n",
      " 60%|######    | 50.3M/83.3M [00:09<00:04, 6.70MB/s]\n",
      " 62%|######1   | 51.4M/83.3M [00:09<00:04, 6.64MB/s]\n",
      " 63%|######2   | 52.4M/83.3M [00:09<00:04, 6.55MB/s]\n",
      " 64%|######4   | 53.5M/83.3M [00:09<00:04, 6.68MB/s]\n",
      " 65%|######5   | 54.5M/83.3M [00:09<00:04, 6.65MB/s]\n",
      " 67%|######6   | 55.6M/83.3M [00:09<00:04, 6.59MB/s]\n",
      " 68%|######8   | 56.6M/83.3M [00:10<00:04, 6.55MB/s]\n",
      " 69%|######9   | 57.7M/83.3M [00:10<00:03, 6.61MB/s]\n",
      " 71%|#######   | 58.7M/83.3M [00:10<00:03, 6.54MB/s]\n",
      " 72%|#######1  | 59.8M/83.3M [00:10<00:03, 6.50MB/s]\n",
      " 73%|#######3  | 60.8M/83.3M [00:10<00:03, 6.50MB/s]\n",
      " 74%|#######4  | 61.9M/83.3M [00:10<00:03, 6.55MB/s]\n",
      " 76%|#######5  | 62.9M/83.3M [00:11<00:03, 5.55MB/s]\n",
      " 77%|#######6  | 64.0M/83.3M [00:11<00:03, 5.67MB/s]\n",
      " 78%|#######8  | 65.0M/83.3M [00:11<00:03, 5.89MB/s]\n",
      " 79%|#######9  | 66.1M/83.3M [00:11<00:02, 6.08MB/s]\n",
      " 81%|########  | 67.1M/83.3M [00:11<00:02, 6.23MB/s]\n",
      " 82%|########1 | 68.2M/83.3M [00:11<00:02, 6.33MB/s]\n",
      " 83%|########3 | 69.2M/83.3M [00:12<00:02, 6.37MB/s]\n",
      " 84%|########4 | 70.3M/83.3M [00:12<00:02, 6.43MB/s]\n",
      " 86%|########5 | 71.3M/83.3M [00:12<00:01, 6.47MB/s]\n",
      " 87%|########6 | 72.4M/83.3M [00:12<00:01, 6.46MB/s]\n",
      " 88%|########8 | 73.4M/83.3M [00:12<00:01, 6.52MB/s]\n",
      " 89%|########9 | 74.4M/83.3M [00:12<00:01, 6.55MB/s]\n",
      " 91%|######### | 75.5M/83.3M [00:13<00:01, 6.50MB/s]\n",
      " 92%|#########1| 76.5M/83.3M [00:13<00:01, 6.51MB/s]\n",
      " 93%|#########3| 77.6M/83.3M [00:13<00:00, 6.51MB/s]\n",
      " 94%|#########4| 78.6M/83.3M [00:13<00:00, 6.53MB/s]\n",
      " 96%|#########5| 79.7M/83.3M [00:13<00:00, 6.52MB/s]\n",
      " 97%|#########6| 80.7M/83.3M [00:13<00:00, 6.56MB/s]\n",
      " 98%|#########8| 81.8M/83.3M [00:13<00:00, 6.54MB/s]\n",
      "100%|#########9| 82.8M/83.3M [00:14<00:00, 6.59MB/s]\n",
      "100%|##########| 83.3M/83.3M [00:14<00:00, 5.87MB/s]\n",
      "C:\\Users\\Admin\\anaconda3\\lib\\site-packages\\gdown\\cli.py:126: FutureWarning: Option `--id` was deprecated in version 4.3.1 and will be removed in 5.0. You don't need to pass it anymore to use a file ID.\n",
      "  warnings.warn(\n",
      "Downloading...\n",
      "From: https://drive.google.com/uc?id=1z1BIj4qmri59GWBG4ivMNFtpZ4AXIbzg\n",
      "To: C:\\Users\\Admin\\sign_mnist_test.csv\n",
      "\n",
      "  0%|          | 0.00/21.8M [00:00<?, ?B/s]\n",
      "  2%|2         | 524k/21.8M [00:00<00:27, 769kB/s]\n",
      "  5%|4         | 1.05M/21.8M [00:00<00:13, 1.49MB/s]\n",
      " 10%|9         | 2.10M/21.8M [00:00<00:06, 2.86MB/s]\n",
      " 14%|#4        | 3.15M/21.8M [00:01<00:04, 3.82MB/s]\n",
      " 19%|#9        | 4.19M/21.8M [00:01<00:03, 4.53MB/s]\n",
      " 24%|##4       | 5.24M/21.8M [00:01<00:03, 4.93MB/s]\n",
      " 29%|##8       | 6.29M/21.8M [00:01<00:02, 5.24MB/s]\n",
      " 34%|###3      | 7.34M/21.8M [00:01<00:02, 5.41MB/s]\n",
      " 39%|###8      | 8.39M/21.8M [00:02<00:02, 5.62MB/s]\n",
      " 43%|####3     | 9.44M/21.8M [00:02<00:02, 5.84MB/s]\n",
      " 48%|####8     | 10.5M/21.8M [00:02<00:01, 5.91MB/s]\n",
      " 53%|#####2    | 11.5M/21.8M [00:02<00:01, 6.16MB/s]\n",
      " 58%|#####7    | 12.6M/21.8M [00:02<00:01, 6.11MB/s]\n",
      " 63%|######2   | 13.6M/21.8M [00:02<00:01, 6.01MB/s]\n",
      " 67%|######7   | 14.7M/21.8M [00:03<00:01, 5.93MB/s]\n",
      " 72%|#######2  | 15.7M/21.8M [00:03<00:01, 5.97MB/s]\n",
      " 77%|#######7  | 16.8M/21.8M [00:03<00:00, 5.98MB/s]\n",
      " 82%|########1 | 17.8M/21.8M [00:03<00:00, 5.99MB/s]\n",
      " 87%|########6 | 18.9M/21.8M [00:03<00:00, 5.88MB/s]\n",
      " 92%|#########1| 19.9M/21.8M [00:03<00:00, 5.94MB/s]\n",
      " 96%|#########6| 21.0M/21.8M [00:04<00:00, 6.03MB/s]\n",
      "100%|##########| 21.8M/21.8M [00:04<00:00, 6.11MB/s]\n",
      "100%|##########| 21.8M/21.8M [00:04<00:00, 5.16MB/s]\n"
     ]
    }
   ],
   "source": [
    "# sign_mnist_train.csv\n",
    "!gdown --id 1z0DkA9BytlLxO1C0BAWzknLyQmZAp0HR\n",
    "# sign_mnist_test.csv\n",
    "!gdown --id 1z1BIj4qmri59GWBG4ivMNFtpZ4AXIbzg"
   ]
  },
  {
   "cell_type": "markdown",
   "id": "7cb15ecc",
   "metadata": {
    "id": "7cb15ecc"
   },
   "source": [
    "Define some globals with the path to both files you just downloaded:"
   ]
  },
  {
   "cell_type": "code",
   "execution_count": 3,
   "id": "3b992532",
   "metadata": {
    "id": "3b992532",
    "tags": [
     "graded"
    ]
   },
   "outputs": [],
   "source": [
    "TRAINING_FILE = 'C:\\\\Users\\\\Admin\\\\sign_mnist_train.csv'\n",
    "VALIDATION_FILE = 'C:\\\\Users\\\\Admin\\\\sign_mnist_test.csv'"
   ]
  },
  {
   "cell_type": "code",
   "execution_count": 4,
   "id": "3188a991",
   "metadata": {
    "colab": {
     "base_uri": "https://localhost:8080/"
    },
    "id": "3188a991",
    "outputId": "bd0d632e-be84-4b26-c38c-2c3809437915",
    "tags": [
     "graded"
    ]
   },
   "outputs": [
    {
     "name": "stdout",
     "output_type": "stream",
     "text": [
      "First line (header) looks like this:\n",
      "label,pixel1,pixel2,pixel3,pixel4,pixel5,pixel6,pixel7,pixel8,pixel9,pixel10,pixel11,pixel12,pixel13,pixel14,pixel15,pixel16,pixel17,pixel18,pixel19,pixel20,pixel21,pixel22,pixel23,pixel24,pixel25,pixel26,pixel27,pixel28,pixel29,pixel30,pixel31,pixel32,pixel33,pixel34,pixel35,pixel36,pixel37,pixel38,pixel39,pixel40,pixel41,pixel42,pixel43,pixel44,pixel45,pixel46,pixel47,pixel48,pixel49,pixel50,pixel51,pixel52,pixel53,pixel54,pixel55,pixel56,pixel57,pixel58,pixel59,pixel60,pixel61,pixel62,pixel63,pixel64,pixel65,pixel66,pixel67,pixel68,pixel69,pixel70,pixel71,pixel72,pixel73,pixel74,pixel75,pixel76,pixel77,pixel78,pixel79,pixel80,pixel81,pixel82,pixel83,pixel84,pixel85,pixel86,pixel87,pixel88,pixel89,pixel90,pixel91,pixel92,pixel93,pixel94,pixel95,pixel96,pixel97,pixel98,pixel99,pixel100,pixel101,pixel102,pixel103,pixel104,pixel105,pixel106,pixel107,pixel108,pixel109,pixel110,pixel111,pixel112,pixel113,pixel114,pixel115,pixel116,pixel117,pixel118,pixel119,pixel120,pixel121,pixel122,pixel123,pixel124,pixel125,pixel126,pixel127,pixel128,pixel129,pixel130,pixel131,pixel132,pixel133,pixel134,pixel135,pixel136,pixel137,pixel138,pixel139,pixel140,pixel141,pixel142,pixel143,pixel144,pixel145,pixel146,pixel147,pixel148,pixel149,pixel150,pixel151,pixel152,pixel153,pixel154,pixel155,pixel156,pixel157,pixel158,pixel159,pixel160,pixel161,pixel162,pixel163,pixel164,pixel165,pixel166,pixel167,pixel168,pixel169,pixel170,pixel171,pixel172,pixel173,pixel174,pixel175,pixel176,pixel177,pixel178,pixel179,pixel180,pixel181,pixel182,pixel183,pixel184,pixel185,pixel186,pixel187,pixel188,pixel189,pixel190,pixel191,pixel192,pixel193,pixel194,pixel195,pixel196,pixel197,pixel198,pixel199,pixel200,pixel201,pixel202,pixel203,pixel204,pixel205,pixel206,pixel207,pixel208,pixel209,pixel210,pixel211,pixel212,pixel213,pixel214,pixel215,pixel216,pixel217,pixel218,pixel219,pixel220,pixel221,pixel222,pixel223,pixel224,pixel225,pixel226,pixel227,pixel228,pixel229,pixel230,pixel231,pixel232,pixel233,pixel234,pixel235,pixel236,pixel237,pixel238,pixel239,pixel240,pixel241,pixel242,pixel243,pixel244,pixel245,pixel246,pixel247,pixel248,pixel249,pixel250,pixel251,pixel252,pixel253,pixel254,pixel255,pixel256,pixel257,pixel258,pixel259,pixel260,pixel261,pixel262,pixel263,pixel264,pixel265,pixel266,pixel267,pixel268,pixel269,pixel270,pixel271,pixel272,pixel273,pixel274,pixel275,pixel276,pixel277,pixel278,pixel279,pixel280,pixel281,pixel282,pixel283,pixel284,pixel285,pixel286,pixel287,pixel288,pixel289,pixel290,pixel291,pixel292,pixel293,pixel294,pixel295,pixel296,pixel297,pixel298,pixel299,pixel300,pixel301,pixel302,pixel303,pixel304,pixel305,pixel306,pixel307,pixel308,pixel309,pixel310,pixel311,pixel312,pixel313,pixel314,pixel315,pixel316,pixel317,pixel318,pixel319,pixel320,pixel321,pixel322,pixel323,pixel324,pixel325,pixel326,pixel327,pixel328,pixel329,pixel330,pixel331,pixel332,pixel333,pixel334,pixel335,pixel336,pixel337,pixel338,pixel339,pixel340,pixel341,pixel342,pixel343,pixel344,pixel345,pixel346,pixel347,pixel348,pixel349,pixel350,pixel351,pixel352,pixel353,pixel354,pixel355,pixel356,pixel357,pixel358,pixel359,pixel360,pixel361,pixel362,pixel363,pixel364,pixel365,pixel366,pixel367,pixel368,pixel369,pixel370,pixel371,pixel372,pixel373,pixel374,pixel375,pixel376,pixel377,pixel378,pixel379,pixel380,pixel381,pixel382,pixel383,pixel384,pixel385,pixel386,pixel387,pixel388,pixel389,pixel390,pixel391,pixel392,pixel393,pixel394,pixel395,pixel396,pixel397,pixel398,pixel399,pixel400,pixel401,pixel402,pixel403,pixel404,pixel405,pixel406,pixel407,pixel408,pixel409,pixel410,pixel411,pixel412,pixel413,pixel414,pixel415,pixel416,pixel417,pixel418,pixel419,pixel420,pixel421,pixel422,pixel423,pixel424,pixel425,pixel426,pixel427,pixel428,pixel429,pixel430,pixel431,pixel432,pixel433,pixel434,pixel435,pixel436,pixel437,pixel438,pixel439,pixel440,pixel441,pixel442,pixel443,pixel444,pixel445,pixel446,pixel447,pixel448,pixel449,pixel450,pixel451,pixel452,pixel453,pixel454,pixel455,pixel456,pixel457,pixel458,pixel459,pixel460,pixel461,pixel462,pixel463,pixel464,pixel465,pixel466,pixel467,pixel468,pixel469,pixel470,pixel471,pixel472,pixel473,pixel474,pixel475,pixel476,pixel477,pixel478,pixel479,pixel480,pixel481,pixel482,pixel483,pixel484,pixel485,pixel486,pixel487,pixel488,pixel489,pixel490,pixel491,pixel492,pixel493,pixel494,pixel495,pixel496,pixel497,pixel498,pixel499,pixel500,pixel501,pixel502,pixel503,pixel504,pixel505,pixel506,pixel507,pixel508,pixel509,pixel510,pixel511,pixel512,pixel513,pixel514,pixel515,pixel516,pixel517,pixel518,pixel519,pixel520,pixel521,pixel522,pixel523,pixel524,pixel525,pixel526,pixel527,pixel528,pixel529,pixel530,pixel531,pixel532,pixel533,pixel534,pixel535,pixel536,pixel537,pixel538,pixel539,pixel540,pixel541,pixel542,pixel543,pixel544,pixel545,pixel546,pixel547,pixel548,pixel549,pixel550,pixel551,pixel552,pixel553,pixel554,pixel555,pixel556,pixel557,pixel558,pixel559,pixel560,pixel561,pixel562,pixel563,pixel564,pixel565,pixel566,pixel567,pixel568,pixel569,pixel570,pixel571,pixel572,pixel573,pixel574,pixel575,pixel576,pixel577,pixel578,pixel579,pixel580,pixel581,pixel582,pixel583,pixel584,pixel585,pixel586,pixel587,pixel588,pixel589,pixel590,pixel591,pixel592,pixel593,pixel594,pixel595,pixel596,pixel597,pixel598,pixel599,pixel600,pixel601,pixel602,pixel603,pixel604,pixel605,pixel606,pixel607,pixel608,pixel609,pixel610,pixel611,pixel612,pixel613,pixel614,pixel615,pixel616,pixel617,pixel618,pixel619,pixel620,pixel621,pixel622,pixel623,pixel624,pixel625,pixel626,pixel627,pixel628,pixel629,pixel630,pixel631,pixel632,pixel633,pixel634,pixel635,pixel636,pixel637,pixel638,pixel639,pixel640,pixel641,pixel642,pixel643,pixel644,pixel645,pixel646,pixel647,pixel648,pixel649,pixel650,pixel651,pixel652,pixel653,pixel654,pixel655,pixel656,pixel657,pixel658,pixel659,pixel660,pixel661,pixel662,pixel663,pixel664,pixel665,pixel666,pixel667,pixel668,pixel669,pixel670,pixel671,pixel672,pixel673,pixel674,pixel675,pixel676,pixel677,pixel678,pixel679,pixel680,pixel681,pixel682,pixel683,pixel684,pixel685,pixel686,pixel687,pixel688,pixel689,pixel690,pixel691,pixel692,pixel693,pixel694,pixel695,pixel696,pixel697,pixel698,pixel699,pixel700,pixel701,pixel702,pixel703,pixel704,pixel705,pixel706,pixel707,pixel708,pixel709,pixel710,pixel711,pixel712,pixel713,pixel714,pixel715,pixel716,pixel717,pixel718,pixel719,pixel720,pixel721,pixel722,pixel723,pixel724,pixel725,pixel726,pixel727,pixel728,pixel729,pixel730,pixel731,pixel732,pixel733,pixel734,pixel735,pixel736,pixel737,pixel738,pixel739,pixel740,pixel741,pixel742,pixel743,pixel744,pixel745,pixel746,pixel747,pixel748,pixel749,pixel750,pixel751,pixel752,pixel753,pixel754,pixel755,pixel756,pixel757,pixel758,pixel759,pixel760,pixel761,pixel762,pixel763,pixel764,pixel765,pixel766,pixel767,pixel768,pixel769,pixel770,pixel771,pixel772,pixel773,pixel774,pixel775,pixel776,pixel777,pixel778,pixel779,pixel780,pixel781,pixel782,pixel783,pixel784\n",
      "\n",
      "Each subsequent line (data points) look like this:\n",
      "3,107,118,127,134,139,143,146,150,153,156,158,160,163,165,159,166,168,170,170,171,171,171,172,171,171,170,170,169,111,121,129,135,141,144,148,151,154,157,160,163,164,170,119,152,171,171,170,171,172,172,172,172,172,171,171,170,113,123,131,137,142,145,150,152,155,158,161,163,164,172,105,142,170,171,171,171,172,172,173,173,172,171,171,171,116,125,133,139,143,146,151,153,156,159,162,163,167,167,95,144,171,172,172,172,172,172,173,173,173,172,172,171,117,126,134,140,145,149,153,156,158,161,163,164,175,156,87,154,172,173,173,173,173,173,174,174,174,173,172,172,119,128,136,142,146,150,153,156,159,163,165,164,184,148,89,164,172,174,174,174,174,175,175,174,175,174,173,173,122,130,138,143,147,150,154,158,162,165,166,172,181,128,94,170,173,175,174,175,176,177,177,177,177,175,175,174,122,132,139,145,149,152,156,160,163,165,166,181,172,103,113,175,176,178,178,179,179,179,179,178,179,177,175,174,125,134,141,147,150,153,157,161,164,167,168,184,179,116,126,165,176,179,180,180,181,180,180,180,179,178,177,176,128,135,142,148,152,154,158,162,165,168,170,187,180,156,161,124,143,179,178,178,181,182,181,180,181,180,179,179,129,136,144,150,153,155,159,163,166,169,172,187,184,153,102,117,110,175,169,154,182,183,183,182,182,181,181,179,131,138,145,150,155,157,161,165,168,174,190,189,175,146,94,97,113,151,158,129,184,184,184,184,183,183,182,180,131,139,146,151,155,159,163,167,175,182,179,171,159,114,102,89,121,136,136,96,172,186,186,185,185,184,182,181,131,140,147,154,157,160,164,179,186,191,187,180,157,100,88,84,108,111,126,90,120,186,187,187,186,185,184,182,133,141,149,155,158,160,174,201,189,165,151,143,146,120,87,78,87,76,108,98,96,181,188,187,186,186,185,183,133,141,150,156,160,161,179,197,174,135,99,72,95,134,97,72,74,68,116,105,108,187,189,187,187,186,186,185,134,143,151,156,161,163,179,194,156,110,74,42,52,139,94,67,75,75,118,106,129,189,191,190,188,188,187,186,135,144,152,158,163,163,177,193,161,122,84,43,71,134,81,57,71,88,112,98,157,193,193,192,190,190,189,188,136,144,152,158,162,163,176,192,164,128,98,62,60,100,71,76,96,101,105,95,174,195,194,194,194,193,191,190,137,145,152,159,164,165,178,191,164,135,113,82,59,87,98,111,120,108,97,108,190,196,195,195,194,193,193,192,139,146,154,160,164,165,175,186,163,139,112,85,67,102,126,133,126,105,104,176,197,198,197,196,195,195,194,193,138,147,155,161,165,167,172,186,163,137,107,87,76,106,122,125,117,96,156,199,199,200,198,196,196,195,195,194,139,148,156,163,166,168,172,180,158,131,108,99,86,108,118,116,103,107,191,202,201,200,200,200,199,197,198,196,140,149,157,164,168,167,177,178,155,131,118,105,87,100,106,100,96,164,202,202,202,202,202,201,200,199,199,198,140,150,157,165,167,170,181,175,152,130,115,98,82,85,90,99,165,202,203,204,203,203,202,202,201,201,200,200,142,150,159,165,170,191,173,157,144,119,97,84,79,79,91,172,202,203,203,205,204,204,204,203,202,202,201,200,142,151,160,165,188,190,187,150,119,109,85,79,79,78,137,203,205,206,206,207,207,206,206,204,205,204,203,202,142,151,160,172,196,188,188,190,135,96,86,77,77,79,176,205,207,207,207,207,207,207,206,206,206,204,203,202\n",
      "\n",
      "First line (header) looks like this:\n",
      "6,155,157,156,156,156,157,156,158,158,157,158,156,154,154,153,152,151,149,149,148,147,146,144,142,143,138,92,108,158,159,159,159,160,160,160,160,160,160,160,159,158,157,155,154,153,152,151,150,149,149,147,147,146,142,116,143,161,161,161,161,162,161,162,162,162,162,161,161,161,160,159,158,156,155,154,153,152,152,151,150,147,147,125,140,165,164,164,165,165,165,165,165,164,164,164,165,163,163,162,161,159,159,158,156,156,155,152,153,154,151,124,126,166,167,166,167,167,166,167,167,167,167,166,167,165,165,164,163,162,162,161,160,156,151,154,176,145,122,144,100,168,169,168,169,169,168,169,170,170,170,169,168,167,166,167,165,162,159,159,156,151,165,171,146,94,130,159,111,171,171,170,171,171,171,172,171,171,171,172,169,169,170,166,165,160,157,170,177,171,153,124,96,125,157,155,146,172,172,172,173,173,173,173,173,173,173,174,174,171,167,169,175,171,164,165,157,129,112,121,148,164,158,155,152,175,174,174,174,175,174,174,174,174,177,178,174,170,178,182,171,154,127,120,126,138,159,168,165,162,161,158,157,176,176,176,176,177,176,176,177,177,175,169,170,178,169,158,163,139,119,155,171,172,168,165,165,163,162,160,158,177,177,177,178,177,178,178,177,171,159,167,173,157,142,163,152,133,167,177,171,170,170,168,167,166,164,161,159,178,178,179,179,180,178,164,141,137,145,150,141,134,150,154,151,177,181,175,172,173,172,170,167,167,165,163,161,180,179,180,182,180,180,170,156,151,148,151,154,153,153,148,153,147,140,171,176,173,173,171,170,168,167,165,163,182,181,181,182,179,164,149,156,159,153,153,166,173,169,169,163,151,105,141,182,174,175,173,171,171,168,166,165,183,183,183,182,171,159,130,125,135,134,130,137,146,147,164,165,147,103,151,182,176,176,175,173,172,170,167,166,184,185,185,176,174,163,147,145,142,141,141,133,125,125,135,135,112,105,181,179,176,177,175,174,173,171,169,166,185,186,182,170,161,132,125,134,130,144,157,159,152,141,132,121,72,142,176,175,182,177,177,177,175,172,169,168,186,186,173,168,159,128,115,119,109,111,140,154,156,153,140,118,64,67,121,148,160,181,177,177,176,173,169,177,189,178,165,173,163,138,128,128,124,117,111,106,118,139,133,93,40,53,109,146,119,174,179,176,175,174,177,168,186,168,169,169,155,151,145,139,135,130,121,112,104,95,101,61,39,71,99,114,103,177,180,178,178,176,130,171,168,166,163,163,158,149,139,137,138,132,122,116,107,72,66,57,55,63,77,95,155,189,186,177,158,115,86,159,162,162,159,168,170,135,106,97,82,83,103,111,87,68,65,54,89,144,155,173,182,157,165,147,109,134,153,145,165,156,162,169,151,101,73,55,54,65,94,98,71,64,53,114,189,183,177,159,147,142,149,126,160,172,130,92,164,169,171,155,114,82,69,52,62,75,91,82,69,62,139,191,154,120,118,137,147,163,145,159,180,126,87,88,162,170,162,135,98,79,66,58,67,68,66,64,79,146,189,148,132,136,133,144,154,184,139,130,121,93,102,100,162,159,145,112,85,75,68,65,64,62,79,123,192,198,183,126,81,123,137,129,154,217,133,87,87,91,101,94,153,139,115,89,77,72,65,77,106,137,174,185,146,121,111,112,100,78,120,157,168,107,99,121,133,97,95,120,135,116,95,79,69,86,139,173,200,185,175,198,124,118,94,140,133,84,69,149,128,87,94,163,175,103,135,149\n",
      "\n",
      "Each subsequent line (data points) look like this:\n",
      "2,187,188,188,187,187,186,187,188,187,186,185,185,185,184,184,184,181,181,179,179,179,178,178,109,52,66,77,83,188,189,189,188,188,189,188,188,188,188,187,185,185,187,182,177,182,182,182,180,180,179,180,135,67,73,73,71,190,190,190,191,190,190,189,189,189,188,189,188,192,184,144,103,144,142,138,186,182,180,182,163,81,74,68,61,191,193,192,192,192,191,191,191,191,195,200,189,165,127,98,71,85,94,86,165,184,182,182,175,87,61,51,56,192,193,194,193,193,193,194,191,202,208,193,130,95,78,69,62,69,72,69,83,179,184,183,184,116,43,38,56,193,193,194,195,195,195,195,196,209,193,144,83,58,61,62,52,60,65,66,70,176,187,184,185,158,45,35,45,194,194,195,196,196,197,195,208,212,133,86,67,52,52,60,61,63,73,91,150,187,187,185,183,175,112,83,55,195,196,195,198,198,198,194,219,193,106,70,68,64,60,63,71,150,174,187,191,187,186,185,185,179,122,145,140,195,197,198,199,200,198,202,224,172,103,69,68,66,60,94,163,195,193,190,190,189,189,187,189,170,89,169,171,198,200,200,200,200,199,215,210,146,84,60,60,61,66,168,201,193,192,191,190,189,189,188,189,169,110,182,143,199,200,201,201,200,203,224,197,142,93,74,68,59,70,177,199,195,194,193,192,191,189,189,189,182,152,130,102,201,201,202,202,200,215,229,186,131,93,82,80,68,81,195,196,195,195,195,193,192,192,191,189,189,183,131,130,201,202,202,203,202,230,222,168,118,87,80,78,75,110,202,197,197,196,195,194,194,193,192,191,190,185,169,161,202,202,203,202,207,237,210,158,108,81,76,76,75,116,205,197,198,198,196,195,195,194,193,191,189,186,174,182,202,203,205,200,218,238,202,151,105,82,79,80,75,129,206,198,199,198,197,196,196,194,193,192,190,189,184,166,204,204,207,202,234,228,186,141,97,80,80,79,68,136,209,198,199,199,198,197,198,197,196,192,192,191,190,158,206,206,202,215,240,217,174,130,91,78,74,71,70,83,192,203,200,200,201,200,191,177,164,151,144,164,190,187,206,207,199,229,234,204,160,119,89,75,66,69,73,69,121,212,204,203,189,164,151,151,146,138,119,91,182,191,208,205,206,238,225,190,149,113,89,70,62,68,73,75,74,156,179,161,147,147,155,151,133,112,117,123,184,189,207,198,224,237,218,181,139,107,85,63,62,75,80,82,83,80,111,136,157,158,140,109,103,154,190,192,190,190,199,209,238,232,209,173,137,100,80,58,73,90,97,102,99,100,117,139,145,122,95,94,175,199,195,193,193,190,200,233,237,224,201,167,129,96,80,61,86,98,106,112,107,107,114,115,103,115,153,187,199,195,194,192,190,190,228,236,226,214,194,160,120,92,78,70,95,104,107,111,103,94,83,100,158,197,202,200,197,195,194,192,190,189,227,228,220,206,183,148,106,90,78,83,103,110,106,95,85,77,121,189,205,202,200,201,198,196,195,192,190,190,219,216,204,182,160,127,96,87,77,89,100,104,94,72,103,174,204,205,203,201,200,201,199,197,195,193,192,191,212,198,175,158,136,103,85,76,81,89,92,88,69,108,195,208,204,203,203,201,200,200,199,196,195,195,193,192,202,179,152,140,118,85,75,78,82,77,75,87,142,203,208,205,203,204,203,201,200,200,199,198,196,195,194,193,198,166,132,114,89,74,79,77,74,78,132,188,210,209,206,205,204,203,202,201,200,199,198,199,198,195,194,195\n",
      "\n"
     ]
    }
   ],
   "source": [
    "\n",
    "with open(TRAINING_FILE) as training_file:\n",
    "  line = training_file.readline()\n",
    "  print(f\"First line (header) looks like this:\\n{line}\")\n",
    "  line = training_file.readline()\n",
    "  print(f\"Each subsequent line (data points) look like this:\\n{line}\")\n",
    "\n",
    "\n",
    "  line = training_file.readline()\n",
    "  print(f\"First line (header) looks like this:\\n{line}\")\n",
    "  line = training_file.readline()\n",
    "  print(f\"Each subsequent line (data points) look like this:\\n{line}\")"
   ]
  },
  {
   "cell_type": "markdown",
   "id": "68d1eb72",
   "metadata": {
    "id": "68d1eb72"
   },
   "source": [
    "As we can see, each file includes a header (the first line) and each subsequent data point is represented.\n",
    "\n",
    "The first value is the label (the numeric representation of each letter) and the other values are the value of each pixel of the image. Remember that the original images have a resolution of 28x28."
   ]
  },
  {
   "cell_type": "markdown",
   "id": "77af7d9f",
   "metadata": {
    "id": "77af7d9f"
   },
   "source": [
    " ## Parsing the dataset\n",
    "\n"
   ]
  },
  {
   "cell_type": "code",
   "execution_count": 5,
   "id": "47096869",
   "metadata": {
    "cellView": "code",
    "id": "47096869",
    "lines_to_next_cell": 2,
    "tags": [
     "graded"
    ]
   },
   "outputs": [],
   "source": [
    "\n",
    "def parse_data_from_input(filename):\n",
    "  with open(filename) as file:\n",
    "    # Using csv.reader, passing in the appropriate delimiter\n",
    "    data = np.loadtxt(filename, delimiter=',', skiprows=1)\n",
    "    labels = data[:,0].astype(int).reshape(-1)\n",
    "    images = data[:,1:].astype(float).reshape(-1, 28, 28)\n",
    "\n",
    "    return images, labels"
   ]
  },
  {
   "cell_type": "code",
   "execution_count": 6,
   "id": "4ae53f24",
   "metadata": {
    "colab": {
     "base_uri": "https://localhost:8080/"
    },
    "id": "4ae53f24",
    "outputId": "d56f1060-22ab-4372-907e-193773e583ee",
    "tags": [
     "graded"
    ]
   },
   "outputs": [
    {
     "name": "stdout",
     "output_type": "stream",
     "text": [
      "Training images has shape: (27455, 28, 28) and dtype: float64\n",
      "Training labels has shape: (27455,) and dtype: int32\n",
      "Validation images has shape: (7172, 28, 28) and dtype: float64\n",
      "Validation labels has shape: (7172,) and dtype: int32\n"
     ]
    }
   ],
   "source": [
    "# Testing function\n",
    "training_images, training_labels = parse_data_from_input(TRAINING_FILE)\n",
    "validation_images, validation_labels = parse_data_from_input(VALIDATION_FILE)\n",
    "\n",
    "print(f\"Training images has shape: {training_images.shape} and dtype: {training_images.dtype}\")\n",
    "print(f\"Training labels has shape: {training_labels.shape} and dtype: {training_labels.dtype}\")\n",
    "print(f\"Validation images has shape: {validation_images.shape} and dtype: {validation_images.dtype}\")\n",
    "print(f\"Validation labels has shape: {validation_labels.shape} and dtype: {validation_labels.dtype}\")"
   ]
  },
  {
   "cell_type": "markdown",
   "id": "a04e8e23",
   "metadata": {
    "id": "a04e8e23"
   },
   "source": [
    "## Visualizing the numpy arrays\n"
   ]
  },
  {
   "cell_type": "code",
   "execution_count": 7,
   "id": "81605604",
   "metadata": {
    "colab": {
     "base_uri": "https://localhost:8080/",
     "height": 127
    },
    "id": "81605604",
    "outputId": "dbae6ee1-fbe2-49b7-d21a-4d660fdfd595",
    "tags": []
   },
   "outputs": [
    {
     "data": {
      "image/png": "[encoded data removed]",
      "text/plain": [
       "<Figure size 1600x1500 with 10 Axes>"
      ]
     },
     "metadata": {},
     "output_type": "display_data"
    }
   ],
   "source": [
    "# Plot a sample of 10 images from the training set\n",
    "def plot_categories(training_images, training_labels):\n",
    "  fig, axes = plt.subplots(1, 10, figsize=(16, 15))\n",
    "  axes = axes.flatten()\n",
    "  letters = list(string.ascii_lowercase)\n",
    "\n",
    "  for k in range(10):\n",
    "    img = training_images[k]\n",
    "    img = np.expand_dims(img, axis=-1)\n",
    "    img = array_to_img(img)\n",
    "    ax = axes[k]\n",
    "    ax.imshow(img, cmap=\"Greys_r\")\n",
    "    ax.set_title(f\"{letters[int(training_labels[k])]}\")\n",
    "    ax.set_axis_off()\n",
    "\n",
    "  plt.tight_layout()\n",
    "  plt.show()\n",
    "\n",
    "plot_categories(training_images, training_labels)"
   ]
  },
  {
   "cell_type": "markdown",
   "id": "a77c3fae",
   "metadata": {
    "id": "a77c3fae"
   },
   "source": [
    "## Creating the generators for the CNN"
   ]
  },
  {
   "cell_type": "code",
   "execution_count": 8,
   "id": "42157a8c",
   "metadata": {
    "cellView": "code",
    "id": "42157a8c",
    "lines_to_next_cell": 2,
    "tags": [
     "graded"
    ]
   },
   "outputs": [],
   "source": [
    "# train_val_generators\n",
    "def train_val_generators(training_images, training_labels, validation_images, validation_labels):\n",
    "  \n",
    "  training_images = np.expand_dims(training_images, axis=3)\n",
    "  validation_images = np.expand_dims(validation_images, axis=3)\n",
    "\n",
    "  train_datagen = ImageDataGenerator(\n",
    "    rescale=1.0/255,\n",
    "    shear_range=.2,\n",
    "    zoom_range=.2,\n",
    "    rotation_range=40,\n",
    "    fill_mode='nearest',\n",
    "    horizontal_flip=True\n",
    "      )\n",
    "\n",
    "  # Pass in the appropriate arguments to the flow method\n",
    "  train_generator = train_datagen.flow(x=training_images,\n",
    "                                       y=training_labels,\n",
    "                                       batch_size=32)\n",
    "\n",
    "\n",
    "  # Instantiate the ImageDataGenerator class\n",
    "  validation_datagen = ImageDataGenerator(rescale=1./255.)\n",
    "\n",
    "  # Pass in the appropriate arguments to the flow method\n",
    "  validation_generator = validation_datagen.flow(x=validation_images,\n",
    "                                                 y=validation_labels,\n",
    "                                                 batch_size=32)\n",
    "\n",
    "  return train_generator, validation_generator"
   ]
  },
  {
   "cell_type": "code",
   "execution_count": 9,
   "id": "0225e001",
   "metadata": {
    "colab": {
     "base_uri": "https://localhost:8080/"
    },
    "id": "0225e001",
    "outputId": "8309b3f1-7549-42ea-810a-9b7d44a5739b",
    "tags": [
     "graded"
    ]
   },
   "outputs": [
    {
     "name": "stdout",
     "output_type": "stream",
     "text": [
      "Images of training generator have shape: (27455, 28, 28, 1)\n",
      "Labels of training generator have shape: (27455,)\n",
      "Images of validation generator have shape: (7172, 28, 28, 1)\n",
      "Labels of validation generator have shape: (7172,)\n"
     ]
    }
   ],
   "source": [
    "# Test generators\n",
    "train_generator, validation_generator = train_val_generators(training_images, training_labels, validation_images, validation_labels)\n",
    "\n",
    "print(f\"Images of training generator have shape: {train_generator.x.shape}\")\n",
    "print(f\"Labels of training generator have shape: {train_generator.y.shape}\")\n",
    "print(f\"Images of validation generator have shape: {validation_generator.x.shape}\")\n",
    "print(f\"Labels of validation generator have shape: {validation_generator.y.shape}\")"
   ]
  },
  {
   "cell_type": "markdown",
   "id": "79415fd9",
   "metadata": {
    "id": "79415fd9"
   },
   "source": [
    "## Creating the CNN Model"
   ]
  },
  {
   "cell_type": "code",
   "execution_count": 10,
   "id": "f9598ae6",
   "metadata": {
    "cellView": "code",
    "id": "f9598ae6",
    "tags": [
     "graded"
    ]
   },
   "outputs": [],
   "source": [
    "def create_model():\n",
    "  # Define the model\n",
    "  model= tf.keras.models.Sequential([\n",
    "    tf.keras.layers.Conv2D(64, (3, 3), activation='relu', input_shape=(28, 28, 1)),\n",
    "    tf.keras.layers.MaxPooling2D(2, 2),\n",
    "    tf.keras.layers.Conv2D(64, (3, 3), activation='relu', input_shape=(28, 28, 1)),\n",
    "    tf.keras.layers.MaxPooling2D(2, 2),\n",
    "    # Flatten\n",
    "    tf.keras.layers.Flatten(),\n",
    "    tf.keras.layers.Dense(512, activation='relu'),\n",
    "    # 26 classes\n",
    "    tf.keras.layers.Dense(26, activation='softmax')\n",
    "  ])\n",
    "\n",
    "\n",
    "  model.compile(optimizer = tf.optimizers.Adam(),\n",
    "                loss = 'sparse_categorical_crossentropy',\n",
    "                metrics=['accuracy'])\n",
    "\n",
    "  return model"
   ]
  },
  {
   "cell_type": "code",
   "execution_count": 11,
   "id": "125be6c8",
   "metadata": {
    "colab": {
     "base_uri": "https://localhost:8080/"
    },
    "id": "125be6c8",
    "lines_to_next_cell": 2,
    "outputId": "214204d3-bbc5-41ff-d550-20310bad7fab",
    "tags": []
   },
   "outputs": [
    {
     "name": "stdout",
     "output_type": "stream",
     "text": [
      "Epoch 1/15\n",
      "858/858 [==============================] - 59s 67ms/step - loss: 1.8358 - accuracy: 0.4256 - val_loss: 0.8639 - val_accuracy: 0.6785\n",
      "Epoch 2/15\n",
      "858/858 [==============================] - 61s 71ms/step - loss: 0.7121 - accuracy: 0.7579 - val_loss: 0.5237 - val_accuracy: 0.8178\n",
      "Epoch 3/15\n",
      "858/858 [==============================] - 60s 70ms/step - loss: 0.3996 - accuracy: 0.8641 - val_loss: 0.4077 - val_accuracy: 0.8624\n",
      "Epoch 4/15\n",
      "858/858 [==============================] - 60s 70ms/step - loss: 0.2464 - accuracy: 0.9186 - val_loss: 0.2440 - val_accuracy: 0.9353\n",
      "Epoch 5/15\n",
      "858/858 [==============================] - 60s 70ms/step - loss: 0.1814 - accuracy: 0.9412 - val_loss: 0.3747 - val_accuracy: 0.8805\n",
      "Epoch 6/15\n",
      "858/858 [==============================] - 60s 70ms/step - loss: 0.1362 - accuracy: 0.9555 - val_loss: 0.2261 - val_accuracy: 0.9292\n",
      "Epoch 7/15\n",
      "858/858 [==============================] - 65s 76ms/step - loss: 0.1040 - accuracy: 0.9661 - val_loss: 0.3264 - val_accuracy: 0.9204\n",
      "Epoch 8/15\n",
      "858/858 [==============================] - 62s 73ms/step - loss: 0.0893 - accuracy: 0.9713 - val_loss: 0.3124 - val_accuracy: 0.9346\n",
      "Epoch 9/15\n",
      "858/858 [==============================] - 66s 77ms/step - loss: 0.0758 - accuracy: 0.9749 - val_loss: 0.2614 - val_accuracy: 0.9221\n",
      "Epoch 10/15\n",
      "858/858 [==============================] - 62s 72ms/step - loss: 0.0711 - accuracy: 0.9764 - val_loss: 0.2125 - val_accuracy: 0.9375\n",
      "Epoch 11/15\n",
      "858/858 [==============================] - 69s 80ms/step - loss: 0.0682 - accuracy: 0.9777 - val_loss: 0.3106 - val_accuracy: 0.9356\n",
      "Epoch 12/15\n",
      "858/858 [==============================] - 61s 71ms/step - loss: 0.0553 - accuracy: 0.9817 - val_loss: 0.2998 - val_accuracy: 0.9332\n",
      "Epoch 13/15\n",
      "858/858 [==============================] - 58s 68ms/step - loss: 0.0581 - accuracy: 0.9805 - val_loss: 0.2287 - val_accuracy: 0.9483\n",
      "Epoch 14/15\n",
      "858/858 [==============================] - 57s 67ms/step - loss: 0.0561 - accuracy: 0.9814 - val_loss: 0.3050 - val_accuracy: 0.9331\n",
      "Epoch 15/15\n",
      "858/858 [==============================] - 57s 67ms/step - loss: 0.0464 - accuracy: 0.9851 - val_loss: 0.2098 - val_accuracy: 0.9456\n"
     ]
    }
   ],
   "source": [
    "# Save model\n",
    "model = create_model()\n",
    "\n",
    "# Train model\n",
    "history = model.fit(train_generator,\n",
    "                    epochs=15,\n",
    "                    validation_data=validation_generator)"
   ]
  },
  {
   "cell_type": "markdown",
   "id": "05b02793",
   "metadata": {
    "id": "05b02793"
   },
   "source": [
    "Training history:"
   ]
  },
  {
   "cell_type": "code",
   "execution_count": 12,
   "id": "f1567eef",
   "metadata": {
    "colab": {
     "base_uri": "https://localhost:8080/",
     "height": 887
    },
    "id": "f1567eef",
    "outputId": "1e1f1317-33aa-4911-900a-4c66fe8098a1",
    "tags": []
   },
   "outputs": [
    {
     "data": {
      "image/png": "[encoded data removed]",
      "text/plain": [
       "<Figure size 640x480 with 1 Axes>"
      ]
     },
     "metadata": {},
     "output_type": "display_data"
    },
    {
     "data": {
      "image/png": "[encoded data removed]",
      "text/plain": [
       "<Figure size 640x480 with 1 Axes>"
      ]
     },
     "metadata": {},
     "output_type": "display_data"
    }
   ],
   "source": [
    "# Plot the chart for accuracy and loss on both training and validation\n",
    "acc = history.history['accuracy']\n",
    "val_acc = history.history['val_accuracy']\n",
    "loss = history.history['loss']\n",
    "val_loss = history.history['val_loss']\n",
    "\n",
    "epochs = range(len(acc))\n",
    "\n",
    "plt.plot(epochs, acc, 'r', label='Training accuracy')\n",
    "plt.plot(epochs, val_acc, 'b', label='Validation accuracy')\n",
    "plt.title('Training and validation accuracy')\n",
    "plt.legend()\n",
    "plt.figure()\n",
    "\n",
    "plt.plot(epochs, loss, 'r', label='Training Loss')\n",
    "plt.plot(epochs, val_loss, 'b', label='Validation Loss')\n",
    "plt.title('Training and validation loss')\n",
    "plt.legend()\n",
    "\n",
    "plt.show()"
   ]
  },
  {
   "cell_type": "code",
   "execution_count": null,
   "id": "0dc354de",
   "metadata": {},
   "outputs": [],
   "source": []
  }
 ],
 "metadata": {
  "accelerator": "GPU",
  "colab": {
   "provenance": []
  },
  "kernelspec": {
   "display_name": "Python 3 (ipykernel)",
   "language": "python",
   "name": "python3"
  },
  "language_info": {
   "codemirror_mode": {
    "name": "ipython",
    "version": 3
   },
   "file_extension": ".py",
   "mimetype": "text/x-python",
   "name": "python",
   "nbconvert_exporter": "python",
   "pygments_lexer": "ipython3",
   "version": "3.9.13"
  }
 },
 "nbformat": 4,
 "nbformat_minor": 5
}
